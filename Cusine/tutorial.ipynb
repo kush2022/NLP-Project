{
 "cells": [
  {
   "cell_type": "code",
   "execution_count": 1,
   "id": "b7e368e0-b745-480b-853b-75623b90f9f3",
   "metadata": {},
   "outputs": [],
   "source": [
    "from langchain.document_loaders import TextLoader"
   ]
  },
  {
   "cell_type": "code",
   "execution_count": 2,
   "id": "d3e714e3-950d-4bf0-afac-0a1df02db781",
   "metadata": {},
   "outputs": [],
   "source": [
    "loader = TextLoader(\"news.txt\")"
   ]
  },
  {
   "cell_type": "code",
   "execution_count": 3,
   "id": "75a5a0dd-44d5-412e-a0cb-9f9d58877ede",
   "metadata": {},
   "outputs": [],
   "source": [
    "data = loader.load()"
   ]
  },
  {
   "cell_type": "code",
   "execution_count": 4,
   "id": "f9783835-5a4e-409a-a028-a8d78b9c7046",
   "metadata": {},
   "outputs": [
    {
     "data": {
      "text/plain": [
       "1"
      ]
     },
     "execution_count": 4,
     "metadata": {},
     "output_type": "execute_result"
    }
   ],
   "source": [
    "len(data)"
   ]
  },
  {
   "cell_type": "markdown",
   "id": "d68d9932-d82f-4976-876a-12890f519635",
   "metadata": {},
   "source": [
    "### cvv loader "
   ]
  },
  {
   "cell_type": "code",
   "execution_count": 5,
   "id": "636c8155-350c-4eea-8751-1d8d70f00350",
   "metadata": {},
   "outputs": [],
   "source": [
    "from langchain.document_loaders.csv_loader import CSVLoader"
   ]
  },
  {
   "cell_type": "code",
   "execution_count": 6,
   "id": "7417cc04-fe35-4a0d-9e57-5a8655b50cc0",
   "metadata": {},
   "outputs": [],
   "source": [
    "loader = CSVLoader(\"movies.csv\")"
   ]
  },
  {
   "cell_type": "code",
   "execution_count": 7,
   "id": "a701b8e2-619a-427c-aec0-b2e131545edf",
   "metadata": {},
   "outputs": [],
   "source": [
    "data = loader.load()"
   ]
  },
  {
   "cell_type": "code",
   "execution_count": 8,
   "id": "33b70fff-287b-4cd8-ae0c-a3070d7f9fc3",
   "metadata": {},
   "outputs": [
    {
     "data": {
      "text/plain": [
       "9"
      ]
     },
     "execution_count": 8,
     "metadata": {},
     "output_type": "execute_result"
    }
   ],
   "source": [
    "len(data)"
   ]
  },
  {
   "cell_type": "code",
   "execution_count": 10,
   "id": "d5512656-6094-4e7e-83b0-ae0e2232eefd",
   "metadata": {},
   "outputs": [
    {
     "data": {
      "text/plain": [
       "{'source': 'movies.csv', 'row': 0}"
      ]
     },
     "execution_count": 10,
     "metadata": {},
     "output_type": "execute_result"
    }
   ],
   "source": [
    "data[0].metadata"
   ]
  },
  {
   "cell_type": "code",
   "execution_count": 11,
   "id": "59003510-2f5f-4de3-baf4-de95fc8c2afd",
   "metadata": {},
   "outputs": [
    {
     "data": {
      "text/plain": [
       "{'source': 'movies.csv', 'row': 1}"
      ]
     },
     "execution_count": 11,
     "metadata": {},
     "output_type": "execute_result"
    }
   ],
   "source": [
    "data[1].metadata"
   ]
  },
  {
   "cell_type": "code",
   "execution_count": 12,
   "id": "9b7cfc03-e7b9-4c71-a422-52b4801987a1",
   "metadata": {},
   "outputs": [],
   "source": [
    "from langchain_community.document_loaders import SeleniumURLLoader"
   ]
  },
  {
   "cell_type": "code",
   "execution_count": 13,
   "id": "7b6aaf5f-2530-4753-bafc-82e9986eb152",
   "metadata": {},
   "outputs": [],
   "source": [
    "urls = [\n",
    "    \"https://www.understandingwar.org/backgrounder/russian-offensive-campaign-assessment-february-8-2023\",\n",
    "    \"https://www.understandingwar.org/backgrounder/russian-offensive-campaign-assessment-february-9-2023\",\n",
    "]"
   ]
  },
  {
   "cell_type": "code",
   "execution_count": 14,
   "id": "7955d517-d418-49c7-9cce-4a950a658556",
   "metadata": {},
   "outputs": [],
   "source": [
    "loader = SeleniumURLLoader(urls=urls)"
   ]
  },
  {
   "cell_type": "code",
   "execution_count": 15,
   "id": "387b721a-f303-42c3-94bb-291725ed7748",
   "metadata": {},
   "outputs": [
    {
     "name": "stderr",
     "output_type": "stream",
     "text": [
      "Error fetching or processing https://www.understandingwar.org/backgrounder/russian-offensive-campaign-assessment-february-9-2023, exception: Message: unknown error: net::ERR_CONNECTION_CLOSED\n",
      "  (Session info: chrome-headless-shell=121.0.6167.86)\n",
      "Stacktrace:\n",
      "\tGetHandleVerifier [0x00007FF786375E42+3538674]\n",
      "\t(No symbol) [0x00007FF785F94C02]\n",
      "\t(No symbol) [0x00007FF785E45AEB]\n",
      "\t(No symbol) [0x00007FF785E41780]\n",
      "\t(No symbol) [0x00007FF785E34C9D]\n",
      "\t(No symbol) [0x00007FF785E33CAD]\n",
      "\t(No symbol) [0x00007FF785E32EFC]\n",
      "\t(No symbol) [0x00007FF785E32E9F]\n",
      "\t(No symbol) [0x00007FF785E313A5]\n",
      "\t(No symbol) [0x00007FF785E31C8C]\n",
      "\t(No symbol) [0x00007FF785E48179]\n",
      "\t(No symbol) [0x00007FF785ECC757]\n",
      "\t(No symbol) [0x00007FF785EAF0AA]\n",
      "\t(No symbol) [0x00007FF785ECBDE3]\n",
      "\t(No symbol) [0x00007FF785EAEE53]\n",
      "\t(No symbol) [0x00007FF785E7F514]\n",
      "\t(No symbol) [0x00007FF785E80631]\n",
      "\tGetHandleVerifier [0x00007FF7863A6CAD+3738973]\n",
      "\tGetHandleVerifier [0x00007FF7863FC506+4089270]\n",
      "\tGetHandleVerifier [0x00007FF7863F4823+4057299]\n",
      "\tGetHandleVerifier [0x00007FF7860C5C49+720121]\n",
      "\t(No symbol) [0x00007FF785FA126F]\n",
      "\t(No symbol) [0x00007FF785F9C304]\n",
      "\t(No symbol) [0x00007FF785F9C432]\n",
      "\t(No symbol) [0x00007FF785F8BD04]\n",
      "\tBaseThreadInitThunk [0x00007FFE6DE67344+20]\n",
      "\tRtlUserThreadStart [0x00007FFE6EBE26B1+33]\n",
      "\n"
     ]
    }
   ],
   "source": [
    "data = loader.load()"
   ]
  },
  {
   "cell_type": "code",
   "execution_count": 16,
   "id": "16ebec0e-bfa0-4ae2-a83b-497ad6039f23",
   "metadata": {},
   "outputs": [
    {
     "data": {
      "text/plain": [
       "1"
      ]
     },
     "execution_count": 16,
     "metadata": {},
     "output_type": "execute_result"
    }
   ],
   "source": [
    "len(data)"
   ]
  },
  {
   "cell_type": "code",
   "execution_count": 17,
   "id": "0bcb27ea-f277-460a-9cdc-180d0ecd60bb",
   "metadata": {},
   "outputs": [],
   "source": [
    "from langchain.text_splitter import RecursiveCharacterTextSplitter"
   ]
  },
  {
   "cell_type": "code",
   "execution_count": null,
   "id": "d65977c7-7b3e-4ee0-b92a-7f7e1a8733be",
   "metadata": {},
   "outputs": [],
   "source": [
    "r_splitter = RecursiveCharacterTextSplitter(separators=[\"\\n\\n\", \"\\n\", \" \"], chunk_size=200,)"
   ]
  }
 ],
 "metadata": {
  "kernelspec": {
   "display_name": "Python 3 (ipykernel)",
   "language": "python",
   "name": "python3"
  },
  "language_info": {
   "codemirror_mode": {
    "name": "ipython",
    "version": 3
   },
   "file_extension": ".py",
   "mimetype": "text/x-python",
   "name": "python",
   "nbconvert_exporter": "python",
   "pygments_lexer": "ipython3",
   "version": "3.10.13"
  }
 },
 "nbformat": 4,
 "nbformat_minor": 5
}
